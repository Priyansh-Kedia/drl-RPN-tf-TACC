{
 "cells": [
  {
   "cell_type": "code",
   "execution_count": 4,
   "metadata": {},
   "outputs": [
    {
     "name": "stdout",
     "output_type": "stream",
     "text": [
      "Python 2.7.18 :: Anaconda, Inc.\r\n"
     ]
    }
   ],
   "source": [
    "!python --version"
   ]
  },
  {
   "cell_type": "code",
   "execution_count": 5,
   "metadata": {},
   "outputs": [
    {
     "name": "stdout",
     "output_type": "stream",
     "text": [
      "\u001b[33mDEPRECATION: Python 2.7 will reach the end of its life on January 1st, 2020. Please upgrade your Python as Python 2.7 won't be maintained after that date. A future version of pip will drop support for Python 2.7. More details about Python 2 support in pip, can be found at https://pip.pypa.io/en/latest/development/release-process/#python-2-support\u001b[0m\n",
      "Requirement already satisfied: cython in /home/priyansh-kedia/anaconda3/envs/env/lib/python2.7/site-packages (from -r requirements.txt (line 1)) (0.29.23)\n",
      "Requirement already satisfied: opencv-python==3.4.1.15 in /home/priyansh-kedia/anaconda3/envs/env/lib/python2.7/site-packages (from -r requirements.txt (line 2)) (3.4.1.15)\n",
      "Requirement already satisfied: easydict==1.6 in /home/priyansh-kedia/anaconda3/envs/env/lib/python2.7/site-packages (from -r requirements.txt (line 3)) (1.6)\n",
      "Requirement already satisfied: pillow==5.2.0 in /home/priyansh-kedia/anaconda3/envs/env/lib/python2.7/site-packages (from -r requirements.txt (line 4)) (5.2.0)\n",
      "Requirement already satisfied: tensorflow==1.2.0 in /home/priyansh-kedia/anaconda3/envs/env/lib/python2.7/site-packages (from -r requirements.txt (line 5)) (1.2.0)\n",
      "Requirement already satisfied: numpy==1.16.3 in /home/priyansh-kedia/anaconda3/envs/env/lib/python2.7/site-packages (from -r requirements.txt (line 6)) (1.16.3)\n",
      "Requirement already satisfied: scikit-image==0.14.2 in /home/priyansh-kedia/anaconda3/envs/env/lib/python2.7/site-packages (from -r requirements.txt (line 7)) (0.14.2)\n",
      "Requirement already satisfied: pyyaml in /home/priyansh-kedia/anaconda3/envs/env/lib/python2.7/site-packages (from -r requirements.txt (line 8)) (5.4.1)\n",
      "Requirement already satisfied: backports.weakref==1.0rc1 in /home/priyansh-kedia/anaconda3/envs/env/lib/python2.7/site-packages (from tensorflow==1.2.0->-r requirements.txt (line 5)) (1.0rc1)\n",
      "Requirement already satisfied: wheel in /home/priyansh-kedia/anaconda3/envs/env/lib/python2.7/site-packages (from tensorflow==1.2.0->-r requirements.txt (line 5)) (0.36.2)\n",
      "Requirement already satisfied: bleach==1.5.0 in /home/priyansh-kedia/anaconda3/envs/env/lib/python2.7/site-packages (from tensorflow==1.2.0->-r requirements.txt (line 5)) (1.5.0)\n",
      "Requirement already satisfied: markdown==2.2.0 in /home/priyansh-kedia/anaconda3/envs/env/lib/python2.7/site-packages (from tensorflow==1.2.0->-r requirements.txt (line 5)) (2.2.0)\n",
      "Requirement already satisfied: mock>=2.0.0 in /home/priyansh-kedia/anaconda3/envs/env/lib/python2.7/site-packages (from tensorflow==1.2.0->-r requirements.txt (line 5)) (3.0.5)\n",
      "Requirement already satisfied: html5lib==0.9999999 in /home/priyansh-kedia/anaconda3/envs/env/lib/python2.7/site-packages (from tensorflow==1.2.0->-r requirements.txt (line 5)) (0.9999999)\n",
      "Requirement already satisfied: werkzeug>=0.11.10 in /home/priyansh-kedia/anaconda3/envs/env/lib/python2.7/site-packages (from tensorflow==1.2.0->-r requirements.txt (line 5)) (1.0.1)\n",
      "Requirement already satisfied: six>=1.10.0 in /home/priyansh-kedia/anaconda3/envs/env/lib/python2.7/site-packages (from tensorflow==1.2.0->-r requirements.txt (line 5)) (1.16.0)\n",
      "Requirement already satisfied: protobuf>=3.2.0 in /home/priyansh-kedia/anaconda3/envs/env/lib/python2.7/site-packages (from tensorflow==1.2.0->-r requirements.txt (line 5)) (3.17.3)\n",
      "Requirement already satisfied: networkx>=1.8 in /home/priyansh-kedia/anaconda3/envs/env/lib/python2.7/site-packages (from scikit-image==0.14.2->-r requirements.txt (line 7)) (2.2)\n",
      "Requirement already satisfied: cloudpickle>=0.2.1 in /home/priyansh-kedia/anaconda3/envs/env/lib/python2.7/site-packages (from scikit-image==0.14.2->-r requirements.txt (line 7)) (1.3.0)\n",
      "Requirement already satisfied: matplotlib>=2.0.0 in /home/priyansh-kedia/anaconda3/envs/env/lib/python2.7/site-packages (from scikit-image==0.14.2->-r requirements.txt (line 7)) (2.2.5)\n",
      "Requirement already satisfied: dask[array]>=1.0.0 in /home/priyansh-kedia/anaconda3/envs/env/lib/python2.7/site-packages (from scikit-image==0.14.2->-r requirements.txt (line 7)) (1.2.2)\n",
      "Requirement already satisfied: scipy>=0.17.0 in /home/priyansh-kedia/anaconda3/envs/env/lib/python2.7/site-packages (from scikit-image==0.14.2->-r requirements.txt (line 7)) (1.2.3)\n",
      "Requirement already satisfied: PyWavelets>=0.4.0 in /home/priyansh-kedia/anaconda3/envs/env/lib/python2.7/site-packages (from scikit-image==0.14.2->-r requirements.txt (line 7)) (1.0.3)\n",
      "Requirement already satisfied: funcsigs>=1; python_version < \"3.3\" in /home/priyansh-kedia/anaconda3/envs/env/lib/python2.7/site-packages (from mock>=2.0.0->tensorflow==1.2.0->-r requirements.txt (line 5)) (1.0.2)\n",
      "Requirement already satisfied: decorator>=4.3.0 in /home/priyansh-kedia/anaconda3/envs/env/lib/python2.7/site-packages (from networkx>=1.8->scikit-image==0.14.2->-r requirements.txt (line 7)) (4.4.2)\n",
      "Requirement already satisfied: python-dateutil>=2.1 in /home/priyansh-kedia/anaconda3/envs/env/lib/python2.7/site-packages (from matplotlib>=2.0.0->scikit-image==0.14.2->-r requirements.txt (line 7)) (2.8.1)\n",
      "Requirement already satisfied: subprocess32 in /home/priyansh-kedia/anaconda3/envs/env/lib/python2.7/site-packages (from matplotlib>=2.0.0->scikit-image==0.14.2->-r requirements.txt (line 7)) (3.5.4)\n",
      "Requirement already satisfied: cycler>=0.10 in /home/priyansh-kedia/anaconda3/envs/env/lib/python2.7/site-packages (from matplotlib>=2.0.0->scikit-image==0.14.2->-r requirements.txt (line 7)) (0.10.0)\n",
      "Requirement already satisfied: backports.functools-lru-cache in /home/priyansh-kedia/anaconda3/envs/env/lib/python2.7/site-packages (from matplotlib>=2.0.0->scikit-image==0.14.2->-r requirements.txt (line 7)) (1.6.4)\n",
      "Requirement already satisfied: pytz in /home/priyansh-kedia/anaconda3/envs/env/lib/python2.7/site-packages (from matplotlib>=2.0.0->scikit-image==0.14.2->-r requirements.txt (line 7)) (2021.1)\n",
      "Requirement already satisfied: pyparsing!=2.0.4,!=2.1.2,!=2.1.6,>=2.0.1 in /home/priyansh-kedia/anaconda3/envs/env/lib/python2.7/site-packages (from matplotlib>=2.0.0->scikit-image==0.14.2->-r requirements.txt (line 7)) (2.4.7)\n",
      "Requirement already satisfied: kiwisolver>=1.0.1 in /home/priyansh-kedia/anaconda3/envs/env/lib/python2.7/site-packages (from matplotlib>=2.0.0->scikit-image==0.14.2->-r requirements.txt (line 7)) (1.1.0)\n",
      "Requirement already satisfied: toolz>=0.7.3; extra == \"array\" in /home/priyansh-kedia/anaconda3/envs/env/lib/python2.7/site-packages (from dask[array]>=1.0.0->scikit-image==0.14.2->-r requirements.txt (line 7)) (0.10.0)\n",
      "Requirement already satisfied: setuptools in /home/priyansh-kedia/anaconda3/envs/env/lib/python2.7/site-packages (from kiwisolver>=1.0.1->matplotlib>=2.0.0->scikit-image==0.14.2->-r requirements.txt (line 7)) (44.0.0.post20200106)\n"
     ]
    }
   ],
   "source": [
    "!pip install -r requirements.txt"
   ]
  },
  {
   "cell_type": "code",
   "execution_count": null,
   "metadata": {},
   "outputs": [],
   "source": []
  },
  {
   "cell_type": "code",
   "execution_count": null,
   "metadata": {},
   "outputs": [],
   "source": []
  }
 ],
 "metadata": {
  "kernelspec": {
   "display_name": "Python 2",
   "language": "python",
   "name": "python2"
  },
  "language_info": {
   "codemirror_mode": {
    "name": "ipython",
    "version": 2
   },
   "file_extension": ".py",
   "mimetype": "text/x-python",
   "name": "python",
   "nbconvert_exporter": "python",
   "pygments_lexer": "ipython2",
   "version": "2.7.18"
  }
 },
 "nbformat": 4,
 "nbformat_minor": 2
}
